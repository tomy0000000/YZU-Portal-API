{
 "cells": [
  {
   "cell_type": "markdown",
   "metadata": {},
   "source": [
    "Week 1: 9/10 ~ 9/16  \n",
    "Week 2: 9/17 ~ 9/23"
   ]
  },
  {
   "cell_type": "markdown",
   "metadata": {},
   "source": [
    "# 科目\n",
    "* 程式設計（一）：425\n",
    "* 程式設計實習 (一)：25420\n",
    "* Web程式設計：22131\n",
    "* 普通物理：25221\n",
    "* 英語 (一)：952\n",
    "* 國文 (一)：227\n",
    "* 資訊概論：431\n",
    "* 微積分 (一)：24868\n",
    "* 國防 - 防衛動員：25181\n",
    "* 體育：1083"
   ]
  },
  {
   "cell_type": "markdown",
   "metadata": {},
   "source": [
    "# Initialization"
   ]
  },
  {
   "cell_type": "code",
   "execution_count": 2,
   "metadata": {
    "code_folding": [
     4
    ],
    "collapsed": true
   },
   "outputs": [],
   "source": [
    "import requests\n",
    "import bs4\n",
    "import json\n",
    "\n",
    "BaitDict = {\n",
    "    \"程式設計（一）\":\"425\",\n",
    "    \"程式設計實習 (一)\":\"25420\",\n",
    "    \"Web程式設計\":\"22131\",\n",
    "    \"普通物理\":\"25221\",\n",
    "    \"英語 (一)\":\"952\",\n",
    "    \"國文 (一)\":\"227\",\n",
    "    \"資訊概論\":\"431\",\n",
    "    \"微積分 (一)\":\"24868\",\n",
    "    \"國防 - 防衛動員\":\"25181\",\n",
    "    \"體育\":\"1083\"\n",
    "}"
   ]
  },
  {
   "cell_type": "code",
   "execution_count": 3,
   "metadata": {
    "collapsed": true
   },
   "outputs": [],
   "source": [
    "class Error(Exception):\n",
    "    pass\n",
    "class LoginError(Error):\n",
    "    pass\n",
    "class KeyError(Error):\n",
    "    pass"
   ]
  },
  {
   "cell_type": "code",
   "execution_count": 17,
   "metadata": {
    "code_folding": [
     0,
     24,
     30,
     39,
     55
    ],
    "collapsed": true
   },
   "outputs": [],
   "source": [
    "def Login(userID, Password):\n",
    "    try:\n",
    "        Head = {\n",
    "            \"User-Agent\":\"Mozilla/5.0 (Macintosh; Intel Mac OS X 10_13_0) AppleWebKit/537.36 (KHTML, like Gecko) Chrome/61.0.3163.100 Safari/537.36\"\n",
    "        }\n",
    "        LoginForm = {\n",
    "            \"__VIEWSTATE\":\"/wEPDwULLTEyODgxNjc5ODQPZBYCAgMPZBYEAgEPFgIeCWlubmVyaHRtbAXyAjxkaXYgc3R5bGU9J2NvbG9yOiByZWQ7IGZvbnQtd2VpZ2h0OiBib2xkOyc+5biz6Jmf54K6cyDliqDkuIrmgqjnmoTlrbjomZ/vvIzlpoJzOTIxMTAxPC9kaXY+PGRpdiBzdHlsZT0nY29sb3I6IHJlZDsgZm9udC13ZWlnaHQ6IGJvbGQ7Jz7lr4bnorzngrog6Lqr5Lu96Ki85a2X6JmfKOiLseaWh+Wtl+iri+Wkp+Wvqyk8L2Rpdj48ZGl2IHN0eWxlPSdjb2xvcjogYmxhY2s7Jz7nmbvlhaXlvozoq4vli5nlv4Xkv67mlLnmgqjnmoTlr4bnorw8L2Rpdj48YnIgLz48ZGl2IHN0eWxlPSdjb2xvcjogYmxhY2s7Jz7lv5joqJjlr4bnorzvvJroq4vpgJXmtL3lnJbmm7jppKjmq4Plj7Ao5YKZ6K2J5Lu2Ke+8jOaIlumbu+agoeWFp+WIhuapnzIzMjE8L2Rpdj5kAgMPZBYGZg9kFgJmD2QWAmYPDxYEHghDc3NDbGFzcwUOTG9naW5CYWNrODAwX0IeBF8hU0ICAmQWAmYPZBYCZg9kFgICAQ8PFgQfAQUOTG9naW5CYWNrMjcwX0IfAgICZBYCZg9kFgJmD2QWCgIBDw8WAh4EVGV4dAUG5biz6JmfZGQCBQ8PFgIfAwUG5a+G56K8ZGQCCQ8PFgQeB1Rvb2xUaXAFD0VuZ2xpc2ggVmVyc2lvbh4ISW1hZ2VVcmwFHC4vSW1hZ2VzL0ljb25zL1ZlcnNpb25UVy5wbmcWAh4Hb25jbGljawUVQ2hhbmdlTGFuZ3VhZ2UoJ1RXJyk7ZAILDw8WAh8DBQbnmbvlhaVkZAINDw8WAh8DBQ4qKuaWsOeUn+azqOaEj2RkAgEPZBYCZg8PFgQfAQUPdGFiQ2VsbE1pZGRsZV9CHwICAmQWBAIDDw8WBB8BBQ50YWJsZUhvdFBhZ2VfQh8CAgJkFgJmD2QWAmYPZBYCZg8PFgIfAwUM54ax6ZaA5bCI6aCBZGQCBQ8PFgQfAQURdGFibGVIb3RQYWdlRW5kX0IfAgICZGQCAg9kFgJmD2QWAmYPDxYEHwEFDUxvZ2luRm9vdGVyX0IfAgICZGRkQD5C5saQgvZAZ3MWFqcsCLxC/no=\",\n",
    "            \"__EVENTVALIDATION\":\"/wEdAAb25EJ+dHZNlp5cuNa95dLz1vGYFjrtzIuId5C42O0AzRaVgZp528BwL4Heg6ju5IFPJEHWQZAV39IrTgU3OMCuz9Epgz+OXGhhMky+n/+RyLga9dtgamGDPrZlwtr3L51bQUrBjEjMfTdbiZae2tPt6QEWsw==\",\n",
    "            \"Txt_UserID\":userID,\n",
    "            \"Txt_Password\":Password,\n",
    "            \"ibnSubmit\":\"登入\"\n",
    "        }\n",
    "        LoginLink = \"https://portalx.yzu.edu.tw/PortalSocialVB/Login.aspx\"\n",
    "        LoginPage = requests.post(LoginLink, data=LoginForm, headers=Head)\n",
    "        if \"Login Failed！登入失敗！\" in LoginPage.text:\n",
    "            raise LoginError (\"Login Failed！登入失敗！\")\n",
    "        LoginSoup = bs4.BeautifulSoup(LoginPage.text, \"lxml\")\n",
    "        St = LoginPage.headers[\"Set-Cookie\"].find(\"ASP.NET_SessionId\")\n",
    "        En = LoginPage.headers[\"Set-Cookie\"].find(\";\", St)\n",
    "        Key = LoginPage.headers[\"Set-Cookie\"][St+len(\"ASP.NET_SessionId\")+1:En]\n",
    "        return Key\n",
    "    except LoginError:\n",
    "        raise\n",
    "\n",
    "def LoginInvalid():\n",
    "    userID = \"s1000000\"\n",
    "    Password = \"-\"\n",
    "    global Key\n",
    "    Key = Login(userID, Password)\n",
    "\n",
    "def LoginTomy():\n",
    "    import json\n",
    "    File = open(\"../Ω - Sensitive Datas/Portal.json\")\n",
    "    Info = json.load(File)\n",
    "    userID = Info[\"UserID\"]\n",
    "    Password = Info[\"Password\"]\n",
    "    global Key\n",
    "    Key = Login(userID, Password)\n",
    "\n",
    "def SwitchSub(Key, ClassID):\n",
    "    try:\n",
    "        Head = {\n",
    "            \"User-Agent\":\"Mozilla/5.0 (Macintosh; Intel Mac OS X 10_13_0) AppleWebKit/537.36 (KHTML, like Gecko) Chrome/60.0.3112.113 Safari/537.36\"\n",
    "        }\n",
    "        Cook = {\n",
    "            \"ASP.NET_SessionId\":Key\n",
    "        }\n",
    "        BaitPage = requests.get(\"https://portalx.yzu.edu.tw/PortalSocialVB/FPage/FirstToPage.aspx?PageID=\"+str(ClassID),\n",
    "                                cookies=Cook,\n",
    "                                headers = Head)\n",
    "        if \"您尚未登入個人portal！\" in BaitPage.text:\n",
    "            raise KeyError\n",
    "    except KeyError:\n",
    "        raise\n",
    "\n",
    "def GetMaterials(Key, ClassID):\n",
    "    try:\n",
    "        SwitchSub(Key, ClassID)\n",
    "        Head = {\n",
    "            \"User-Agent\":\"Mozilla/5.0 (Macintosh; Intel Mac OS X 10_13_0) AppleWebKit/537.36 (KHTML, like Gecko) Chrome/60.0.3112.113 Safari/537.36\"\n",
    "        }\n",
    "        Cook = {\n",
    "            \"ASP.NET_SessionId\":Key\n",
    "        }\n",
    "        MatLink = \"https://portalx.yzu.edu.tw/PortalSocialVB/TMat/Materials_S.aspx?Menu=Mat\"\n",
    "        MatPage = requests.get(MatLink, cookies=Cook, headers=Head)\n",
    "        if \"您尚未登入個人portal！\" in MatPage.text:\n",
    "            raise KeyError\n",
    "        MatSoup = bs4.BeautifulSoup(MatPage.text, \"lxml\")\n",
    "        Mats = []\n",
    "        ItemNums = len(MatSoup.select(\".record2\"))//7\n",
    "        for each in range(ItemNums):\n",
    "            Mat = {}\n",
    "            Item = MatSoup.select(\".record2\")[7*each:7*each+7]\n",
    "            Mat[\"Progress\"] = Item[0].string.strip(\" \")\n",
    "            Mat[\"Infos\"] = Item[4].string.strip(\" \").replace(\"\\r\", \"\").replace(\"\\n\", \"\")\n",
    "            Mat[\"Date\"] = Item[5].string.strip(\" \")\n",
    "            Mats.append(Mat)\n",
    "        ItemNums = len(MatSoup.select(\".hi_line\"))//7\n",
    "        for each in range(ItemNums):\n",
    "            Mat = {}\n",
    "            Item = MatSoup.select(\".hi_line\")[7*each:7*each+7]\n",
    "            Mat[\"Progress\"] = Item[0].string.strip(\" \")\n",
    "            Mat[\"Infos\"] = Item[4].string.strip(\" \").replace(\"\\r\", \"\").replace(\"\\n\", \"\")\n",
    "            Mat[\"Date\"] = Item[5].string.strip(\" \")\n",
    "            Mats.insert(each*2+1, Mat)\n",
    "        Mats.reverse()\n",
    "        return Mats\n",
    "    except KeyError:\n",
    "        raise"
   ]
  },
  {
   "cell_type": "markdown",
   "metadata": {},
   "source": [
    "# Demo"
   ]
  },
  {
   "cell_type": "markdown",
   "metadata": {},
   "source": [
    "## 登入錯誤"
   ]
  },
  {
   "cell_type": "code",
   "execution_count": null,
   "metadata": {
    "collapsed": true
   },
   "outputs": [],
   "source": []
  },
  {
   "cell_type": "code",
   "execution_count": null,
   "metadata": {
    "collapsed": true
   },
   "outputs": [],
   "source": []
  },
  {
   "cell_type": "code",
   "execution_count": 19,
   "metadata": {
    "scrolled": true
   },
   "outputs": [
    {
     "name": "stdout",
     "output_type": "stream",
     "text": [
      "User ID:\n",
      "Password:\n"
     ]
    },
    {
     "data": {
      "text/plain": [
       "'yph5d3i01j20a3vkzcybaavu'"
      ]
     },
     "execution_count": 19,
     "metadata": {},
     "output_type": "execute_result"
    }
   ],
   "source": [
    "userID = input(\"User ID:\")\n",
    "Password = input(\"Password:\")\n",
    "Key = Login(userID, Password)\n",
    "Key"
   ]
  },
  {
   "cell_type": "markdown",
   "metadata": {},
   "source": [
    "## 登入"
   ]
  },
  {
   "cell_type": "code",
   "execution_count": 20,
   "metadata": {
    "scrolled": false
   },
   "outputs": [
    {
     "data": {
      "text/plain": [
       "'e031tcjwte3tebvejlaecozd'"
      ]
     },
     "execution_count": 20,
     "metadata": {},
     "output_type": "execute_result"
    }
   ],
   "source": [
    "LoginTomy()\n",
    "Key"
   ]
  },
  {
   "cell_type": "markdown",
   "metadata": {},
   "source": [
    "## 選擇科目"
   ]
  },
  {
   "cell_type": "code",
   "execution_count": 6,
   "metadata": {
    "collapsed": true
   },
   "outputs": [],
   "source": [
    "SwitchSub(Key, \"425\")"
   ]
  },
  {
   "cell_type": "markdown",
   "metadata": {},
   "source": [
    "## 取得教材"
   ]
  },
  {
   "cell_type": "code",
   "execution_count": 7,
   "metadata": {},
   "outputs": [
    {
     "data": {
      "text/plain": [
       "[{'Date': '2017/9/7', 'Infos': 'Overview', 'Progress': '綜合'},\n",
       " {'Date': '2017/9/7',\n",
       "  'Infos': 'Ch. 2',\n",
       "  'Progress': 'Introduction to C++ Programming - 1 week'},\n",
       " {'Date': '2017/9/7',\n",
       "  'Infos': 'Chs. 3&4',\n",
       "  'Progress': 'Control Statements - 2 weeks'},\n",
       " {'Date': '2017/9/25',\n",
       "  'Infos': 'Fibonacci numbers',\n",
       "  'Progress': 'Control Statements - 2 weeks'},\n",
       " {'Date': '2017/9/25',\n",
       "  'Infos': 'GCD',\n",
       "  'Progress': 'Control Statements - 2 weeks'},\n",
       " {'Date': '2017/9/25',\n",
       "  'Infos': 'Prime numbers',\n",
       "  'Progress': 'Control Statements - 2 weeks'},\n",
       " {'Date': '2017/9/26',\n",
       "  'Infos': 'Pascal triangle',\n",
       "  'Progress': 'Control Statements - 2 weeks'},\n",
       " {'Date': '2017/10/12',\n",
       "  'Infos': 'Ch. 5',\n",
       "  'Progress': 'Functions and an Introduction to Recursion - 2 weeks'},\n",
       " {'Date': '2017/10/25',\n",
       "  'Infos': 'Ch. 6',\n",
       "  'Progress': 'Arrays and Vectors - 3 weeks'},\n",
       " {'Date': '2017/10/25', 'Infos': 'Ch. 7', 'Progress': 'Pointers - 2 weeks'},\n",
       " {'Date': '2017/10/30', 'Infos': 'Strings', 'Progress': 'Pointers - 2 weeks'},\n",
       " {'Date': '2017/10/30',\n",
       "  'Infos': 'Use Pointers',\n",
       "  'Progress': 'Pointers - 2 weeks'},\n",
       " {'Date': '2017/10/30', 'Infos': 'Structure', 'Progress': '綜合'}]"
      ]
     },
     "execution_count": 7,
     "metadata": {},
     "output_type": "execute_result"
    }
   ],
   "source": [
    "Materials = GetMaterials(Key, \"425\")\n",
    "Materials"
   ]
  },
  {
   "cell_type": "code",
   "execution_count": 8,
   "metadata": {},
   "outputs": [
    {
     "name": "stdout",
     "output_type": "stream",
     "text": [
      "日期\t進度\t內容\n",
      "2017/9/7\t綜合\tOverview\n",
      "2017/9/7\tIntroduction to C++ Programming - 1 week\tCh. 2\n",
      "2017/9/7\tControl Statements - 2 weeks\tChs. 3&4\n",
      "2017/9/25\tControl Statements - 2 weeks\tFibonacci numbers\n",
      "2017/9/25\tControl Statements - 2 weeks\tGCD\n",
      "2017/9/25\tControl Statements - 2 weeks\tPrime numbers\n",
      "2017/9/26\tControl Statements - 2 weeks\tPascal triangle\n",
      "2017/10/12\tFunctions and an Introduction to Recursion - 2 weeks\tCh. 5\n",
      "2017/10/25\tArrays and Vectors - 3 weeks\tCh. 6\n",
      "2017/10/25\tPointers - 2 weeks\tCh. 7\n",
      "2017/10/30\tPointers - 2 weeks\tStrings\n",
      "2017/10/30\tPointers - 2 weeks\tUse Pointers\n",
      "2017/10/30\t綜合\tStructure\n"
     ]
    }
   ],
   "source": [
    "print(\"\\t\".join([\"日期\",\"進度\",\"內容\"]))\n",
    "for Mat in Materials:\n",
    "    print(Mat[\"Date\"], end=\"\\t\")\n",
    "    print(Mat[\"Progress\"], end=\"\\t\")\n",
    "    print(Mat[\"Infos\"])"
   ]
  },
  {
   "cell_type": "code",
   "execution_count": null,
   "metadata": {
    "collapsed": true
   },
   "outputs": [],
   "source": []
  },
  {
   "cell_type": "code",
   "execution_count": null,
   "metadata": {
    "collapsed": true
   },
   "outputs": [],
   "source": []
  },
  {
   "cell_type": "code",
   "execution_count": null,
   "metadata": {
    "collapsed": true
   },
   "outputs": [],
   "source": []
  },
  {
   "cell_type": "code",
   "execution_count": null,
   "metadata": {
    "collapsed": true
   },
   "outputs": [],
   "source": []
  },
  {
   "cell_type": "code",
   "execution_count": null,
   "metadata": {
    "collapsed": true
   },
   "outputs": [],
   "source": []
  }
 ],
 "metadata": {
  "kernelspec": {
   "display_name": "Python 3",
   "language": "python",
   "name": "python3"
  },
  "language_info": {
   "codemirror_mode": {
    "name": "ipython",
    "version": 3
   },
   "file_extension": ".py",
   "mimetype": "text/x-python",
   "name": "python",
   "nbconvert_exporter": "python",
   "pygments_lexer": "ipython3",
   "version": "3.6.2"
  }
 },
 "nbformat": 4,
 "nbformat_minor": 2
}
