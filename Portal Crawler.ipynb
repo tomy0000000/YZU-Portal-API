{
 "cells": [
  {
   "cell_type": "markdown",
   "metadata": {},
   "source": [
    "# 科目\n",
    "## 1061\n",
    "* 程式設計（一）：425\n",
    "* 程式設計實習 (一)：25420\n",
    "* Web程式設計：22131\n",
    "* 普通物理：25221\n",
    "* 英語 (一)：952\n",
    "* 國文 (一)：227\n",
    "* 資訊概論：431\n",
    "* 微積分 (一)：24868\n",
    "* 國防 - 防衛動員：25181\n",
    "* 體育：1083\n",
    "\n",
    "## 1062\n",
    "* 程式設計（二）: 1531\n",
    "* 基礎程式設計-C++實習（二）: 25554\n",
    "* 電子電路學: 452\n",
    "* 電子電路實驗: 23900\n",
    "* 微積分（二）: 25725\n",
    "* 離散數學: 6091\n",
    "* 英語（二）：進階英語: 25865\n",
    "* 國文（二）: 1322\n",
    "* 科技與生活：736\n",
    "* 國防 - 國際情勢：25183\n",
    "* 體育: 1083"
   ]
  },
  {
   "cell_type": "markdown",
   "metadata": {},
   "source": [
    "# Initialization"
   ]
  },
  {
   "cell_type": "code",
   "execution_count": 13,
   "metadata": {
    "code_folding": [],
    "collapsed": true
   },
   "outputs": [],
   "source": [
    "import requests\n",
    "import bs4\n",
    "import json\n",
    "import pandas\n",
    "import urllib3\n",
    "import re\n",
    "import os\n",
    "http = urllib3.PoolManager()\n",
    "urllib3.disable_warnings()"
   ]
  },
  {
   "cell_type": "code",
   "execution_count": 2,
   "metadata": {
    "collapsed": true
   },
   "outputs": [],
   "source": [
    "UA = \"Mozilla/5.0 (Macintosh; Intel Mac OS X 10_13_0) AppleWebKit/537.36 (KHTML, like Gecko) Chrome/61.0.3163.100 Safari/537.36\"\n",
    "UAHead = {\"User-Agent\":UA}"
   ]
  },
  {
   "cell_type": "code",
   "execution_count": 3,
   "metadata": {
    "collapsed": true
   },
   "outputs": [],
   "source": [
    "class Error(Exception):\n",
    "    pass\n",
    "class LoginError(Error):\n",
    "    pass\n",
    "class KeyError(Error):\n",
    "    pass"
   ]
  },
  {
   "cell_type": "code",
   "execution_count": 9,
   "metadata": {
    "code_folding": [
     1,
     23,
     25
    ],
    "collapsed": true
   },
   "outputs": [],
   "source": [
    "class userInfo(object):\n",
    "    def __init__(self, userID, password):\n",
    "        try:\n",
    "            LoginPage = http.request(\"POST\",\n",
    "                                     \"https://portalx.yzu.edu.tw/PortalSocialVB/Login.aspx\",\n",
    "                                     fields={\n",
    "                                         \"__VIEWSTATE\":\"/wEPDwULLTEyODgxNjc5ODQPZBYCAgMPZBYEAgEPFgIeCWlubmVyaHRtbAXyAjxkaXYgc3R5bGU9J2NvbG9yOiByZWQ7IGZvbnQtd2VpZ2h0OiBib2xkOyc+5biz6Jmf54K6cyDliqDkuIrmgqjnmoTlrbjomZ/vvIzlpoJzOTIxMTAxPC9kaXY+PGRpdiBzdHlsZT0nY29sb3I6IHJlZDsgZm9udC13ZWlnaHQ6IGJvbGQ7Jz7lr4bnorzngrog6Lqr5Lu96Ki85a2X6JmfKOiLseaWh+Wtl+iri+Wkp+Wvqyk8L2Rpdj48ZGl2IHN0eWxlPSdjb2xvcjogYmxhY2s7Jz7nmbvlhaXlvozoq4vli5nlv4Xkv67mlLnmgqjnmoTlr4bnorw8L2Rpdj48YnIgLz48ZGl2IHN0eWxlPSdjb2xvcjogYmxhY2s7Jz7lv5joqJjlr4bnorzvvJroq4vpgJXmtL3lnJbmm7jppKjmq4Plj7Ao5YKZ6K2J5Lu2Ke+8jOaIlumbu+agoeWFp+WIhuapnzIzMjE8L2Rpdj5kAgMPZBYGZg9kFgJmD2QWAmYPDxYEHghDc3NDbGFzcwUOTG9naW5CYWNrODAwX0IeBF8hU0ICAmQWAmYPZBYCZg9kFgICAQ8PFgQfAQUOTG9naW5CYWNrMjcwX0IfAgICZBYCZg9kFgJmD2QWCgIBDw8WAh4EVGV4dAUG5biz6JmfZGQCBQ8PFgIfAwUG5a+G56K8ZGQCCQ8PFgQeB1Rvb2xUaXAFD0VuZ2xpc2ggVmVyc2lvbh4ISW1hZ2VVcmwFHC4vSW1hZ2VzL0ljb25zL1ZlcnNpb25UVy5wbmcWAh4Hb25jbGljawUVQ2hhbmdlTGFuZ3VhZ2UoJ1RXJyk7ZAILDw8WAh8DBQbnmbvlhaVkZAINDw8WAh8DBQ4qKuaWsOeUn+azqOaEj2RkAgEPZBYCZg8PFgQfAQUPdGFiQ2VsbE1pZGRsZV9CHwICAmQWBAIDDw8WBB8BBQ50YWJsZUhvdFBhZ2VfQh8CAgJkFgJmD2QWAmYPZBYCZg8PFgIfAwUM54ax6ZaA5bCI6aCBZGQCBQ8PFgQfAQURdGFibGVIb3RQYWdlRW5kX0IfAgICZGQCAg9kFgJmD2QWAmYPDxYEHwEFDUxvZ2luRm9vdGVyX0IfAgICZGRkQD5C5saQgvZAZ3MWFqcsCLxC/no=\",\n",
    "                                         \"__EVENTVALIDATION\":\"/wEdAAb25EJ+dHZNlp5cuNa95dLz1vGYFjrtzIuId5C42O0AzRaVgZp528BwL4Heg6ju5IFPJEHWQZAV39IrTgU3OMCuz9Epgz+OXGhhMky+n/+RyLga9dtgamGDPrZlwtr3L51bQUrBjEjMfTdbiZae2tPt6QEWsw==\",\n",
    "                                         \"Txt_UserID\":userID,\n",
    "                                         \"Txt_Password\":password,\n",
    "                                         \"ibnSubmit\":\"登入\"\n",
    "                                     },headers=UAHead)\n",
    "            if \"Login Failed！登入失敗！\" in LoginPage.data.decode(\"utf-8\"):\n",
    "                raise LoginError (\"Login Failed！登入失敗！\")\n",
    "            self.portalXKey = [i for i in LoginPage.headers[\"Set-Cookie\"].split(\", \") if (i.find(\"ASP.NET\") != -1)][0].split(\";\")[0].split(\"=\")[1]\n",
    "            self.ID = userID\n",
    "            self.__password = password\n",
    "            self.name = bs4.BeautifulSoup(http.request(\"GET\",\n",
    "                                                       \"https://portalx.yzu.edu.tw/PortalSocialVB/FMain/DefaultPage.aspx?Menu=Default&LogExcute=Y\",\n",
    "                                                       headers=GenHead(self.portalXKey)).data.decode(\"utf-8\"), \"lxml\").select(\"#MainBar_lbnUserName\")[0].string\n",
    "            print(self)\n",
    "        except LoginError:\n",
    "            raise\n",
    "    def __str__(self):\n",
    "        return \"Login ID: \"+self.ID+\"\\nWelcome! \"+self.name\n",
    "    def getPortalKey(self):\n",
    "        try:\n",
    "            http.request(\"GET\",\n",
    "                         \"https://portalx.yzu.edu.tw/PortalSocialVB/FMain/ClickMenuLog.aspx?type=App_&SysCode=A02\",\n",
    "                         headers=GenHead(self.portalXKey))\n",
    "            ExchangeKeyPage = http.request(\"GET\",\n",
    "                                           \"https://portalx.yzu.edu.tw/PortalSocialVB/IFrameSub.aspx\",\n",
    "                                           headers=GenHead(self.portalXKey))\n",
    "            ExchangeKey = bs4.BeautifulSoup(ExchangeKeyPage.data.decode(\"utf-8\"), \"lxml\").select(\"#SessionID\")[0][\"value\"]\n",
    "            newKeyPage=http.request(\"POST\",\n",
    "                                    \"https://portal.yzu.edu.tw/VC2/FFB_Login.aspx?sys=value\",\n",
    "                                    fields={\n",
    "                                        \"Account\":self.ID,\n",
    "                                        \"SessionID\":ExchangeKey,\n",
    "                                        \"LangVersion\":\"TW\",\n",
    "                                        \"Y\":\"\",\n",
    "                                        \"M\":\"\",\n",
    "                                        \"CosID\":\"\",\n",
    "                                        \"CosClass\":\"\",\n",
    "                                        \"UseType\":\"STD\"\n",
    "                                    },headers=UAHead)\n",
    "            self.portalKey = [i for i in newKeyPage.headers[\"Set-Cookie\"].split(\", \") if (i.find(\"ASP.NET\") != -1)][0].split(\";\")[0].split(\"=\")[1]\n",
    "        except KeyError:\n",
    "            raise"
   ]
  },
  {
   "cell_type": "code",
   "execution_count": 5,
   "metadata": {
    "code_folding": [
     0,
     5,
     11
    ],
    "collapsed": true
   },
   "outputs": [],
   "source": [
    "def GenHead(Key):\n",
    "    return {\n",
    "        \"User-Agent\":UA,\n",
    "        \"Cookie\":\"ASP.NET_SessionId=\"+Key\n",
    "    }\n",
    "def baiting(Key, Link):\n",
    "    try:\n",
    "        if \"您尚未登入個人portal！\" in http.request(\"GET\",Link,headers=GenHead(Key)).data.decode(\"utf-8\"):\n",
    "            raise KeyError\n",
    "    except KeyError:\n",
    "        raise\n",
    "def SwitchSub(Key, ClassID):\n",
    "    baiting(Key, \"https://portalx.yzu.edu.tw/PortalSocialVB/FPage/FirstToPage.aspx?PageID=\"+str(ClassID))"
   ]
  },
  {
   "cell_type": "code",
   "execution_count": 6,
   "metadata": {
    "code_folding": [
     0,
     34
    ],
    "collapsed": true
   },
   "outputs": [],
   "source": [
    "def getClassCodes(User):\n",
    "    L = {}\n",
    "    for each in json.loads(\n",
    "        http.request(\"POST\",\n",
    "                     \"https://portalx.yzu.edu.tw/PortalSocialVB/Include/MainLeftMenuRequest.ashx\",\n",
    "                     body=\"{RequestType: \\\"MyPage\\\", UserAccount: \\\"\"+User.ID+\"\\\"}\",\n",
    "                     headers=GenHead(User.portalXKey)\n",
    "                    ).data.decode(\"utf-8\")\n",
    "    ):\n",
    "        L[each[\"PageName\"]] = each[\"PageID\"]\n",
    "    return L\n",
    "def getClasses(User):\n",
    "    try:\n",
    "        User.portalKey\n",
    "    except AttributeError:\n",
    "        User.getPortalKey()\n",
    "    table = pandas.read_html(str(bs4.BeautifulSoup(\n",
    "        http.request(\"GET\",\n",
    "                     \"https://portal.yzu.edu.tw/VC2/Student/SelCos/SelCosList.aspx\",\n",
    "                     headers=GenHead(User.portalKey)).data.decode(\"utf-8\"), \"lxml\").select(\".table_1\")[0]),\n",
    "        header=0)[0]\n",
    "    table = table.drop(\"選別\",axis=1).drop(\"狀態\",axis=1)\n",
    "    table = table.set_index(\"課名\")\n",
    "    codes = getClassCodes(User)\n",
    "    for each in table.index:\n",
    "        SwitchSub(User.portalXKey, codes[each])\n",
    "        table.set_value(each, \"教師姓名\", re.match(\"^.*\\((?P<teacherName>.*)\\)$\",\n",
    "                                               bs4.BeautifulSoup(http.request(\"GET\",\n",
    "                                                                              \"https://portalx.yzu.edu.tw/PortalSocialVB/FMain/PostWall.aspx?LogExcute=Y&Menu=Pot\",\n",
    "                                                                              headers=GenHead(User.portalXKey)\n",
    "                                                                             ).data.decode(\"utf-8\"),\n",
    "                                                                 \"lxml\").select(\"#PageHead_lblCourseName\")[0].string\n",
    "                                               ).groups(\"teacherName\")[0])\n",
    "    return table\n",
    "def GetMaterials(Key, ClassID):\n",
    "    try:\n",
    "        SwitchSub(Key, ClassID)\n",
    "        Cook = {\n",
    "            \"ASP.NET_SessionId\":Key\n",
    "        }\n",
    "        MatLink = \"https://portalx.yzu.edu.tw/PortalSocialVB/TMat/Materials_S.aspx?Menu=Mat\"\n",
    "        MatPage = requests.get(MatLink, cookies=Cook, headers=UAHead)\n",
    "        if \"您尚未登入個人portal！\" in MatPage.text:\n",
    "            raise KeyError\n",
    "        MatSoup = bs4.BeautifulSoup(MatPage.text, \"lxml\")\n",
    "        Mats = []\n",
    "        ItemNums = len(MatSoup.select(\".record2\"))//7\n",
    "        for each in range(ItemNums):\n",
    "            Mat = {}\n",
    "            Item = MatSoup.select(\".record2\")[7*each:7*each+7]\n",
    "            Mat[\"Progress\"] = Item[0].string.strip(\" \")\n",
    "            Mat[\"Infos\"] = Item[4].string.strip(\" \").replace(\"\\r\", \"\").replace(\"\\n\", \"\")\n",
    "            Mat[\"Date\"] = Item[5].string.strip(\" \")\n",
    "            Mats.append(Mat)\n",
    "        ItemNums = len(MatSoup.select(\".hi_line\"))//7\n",
    "        for each in range(ItemNums):\n",
    "            Mat = {}\n",
    "            Item = MatSoup.select(\".hi_line\")[7*each:7*each+7]\n",
    "            Mat[\"Progress\"] = Item[0].string.strip(\" \")\n",
    "            Mat[\"Infos\"] = Item[4].string.strip(\" \").replace(\"\\r\", \"\").replace(\"\\n\", \"\")\n",
    "            Mat[\"Date\"] = Item[5].string.strip(\" \")\n",
    "            Mats.insert(each*2+1, Mat)\n",
    "        Mats.reverse()\n",
    "        return Mats\n",
    "    except KeyError:\n",
    "        raise"
   ]
  },
  {
   "cell_type": "code",
   "execution_count": 7,
   "metadata": {
    "code_folding": [
     0
    ],
    "collapsed": true
   },
   "outputs": [],
   "source": [
    "def LoginTomy():\n",
    "    with open(\"../Ω - Sensitive Datas/Portal.json\") as f:\n",
    "        Info = json.load(f)\n",
    "    userID = Info[\"UserID\"]\n",
    "    Password = Info[\"Password\"]\n",
    "    return userInfo(userID, Password)"
   ]
  },
  {
   "cell_type": "markdown",
   "metadata": {},
   "source": [
    "# Sandbox"
   ]
  },
  {
   "cell_type": "code",
   "execution_count": null,
   "metadata": {
    "collapsed": true
   },
   "outputs": [],
   "source": [
    "def GetMaterials(User, classID):\n",
    "    try:\n",
    "        SwitchSub(User.portalXKey, classID)\n",
    "        page = http.request(\"GET\",\n",
    "                           \"https://portalx.yzu.edu.tw/PortalSocialVB/TMat/Materials_S.aspx?Menu=Mat\",\n",
    "                           headers=GenHead(User.portalXKey))\n",
    "        if \"您尚未登入個人portal！\" in page.data.decode(\"utf-8\"):\n",
    "            raise KeyError\n",
    "            \n",
    "        global pageRaw\n",
    "        pageRaw = page.data.decode(\"utf-8\")\n",
    "        \n",
    "        table = pandas.read_html(str(bs4.BeautifulSoup(page.data.decode(\"utf-8\"), \"lxml\").select(\".table_1\")[0]), header=0)[0]\n",
    "        table = table.drop([\"下載次數\",\"連結\"], axis=1)\n",
    "        table[\"上傳時間\"] = pandas.to_datetime(table[\"上傳時間\"], format=\"%Y/%m/%d\")\n",
    "        table = table.sort_values(\"上傳時間\", ascending=True)\n",
    "        return table\n",
    "    except KeyError:\n",
    "        raise"
   ]
  },
  {
   "cell_type": "code",
   "execution_count": null,
   "metadata": {},
   "outputs": [],
   "source": [
    "Materials = GetMaterials(Tomy, \"425\")\n",
    "Materials"
   ]
  },
  {
   "cell_type": "code",
   "execution_count": null,
   "metadata": {
    "collapsed": true
   },
   "outputs": [],
   "source": [
    "testSoup = bs4.BeautifulSoup(pageRaw, \"lxml\")"
   ]
  },
  {
   "cell_type": "code",
   "execution_count": null,
   "metadata": {},
   "outputs": [],
   "source": [
    "testSoup.select(\".table_1\")[0].find_all(\"a\")"
   ]
  },
  {
   "cell_type": "code",
   "execution_count": null,
   "metadata": {
    "collapsed": true
   },
   "outputs": [],
   "source": []
  },
  {
   "cell_type": "code",
   "execution_count": null,
   "metadata": {
    "collapsed": true
   },
   "outputs": [],
   "source": []
  },
  {
   "cell_type": "code",
   "execution_count": null,
   "metadata": {
    "collapsed": true
   },
   "outputs": [],
   "source": []
  },
  {
   "cell_type": "code",
   "execution_count": null,
   "metadata": {
    "collapsed": true
   },
   "outputs": [],
   "source": []
  },
  {
   "cell_type": "code",
   "execution_count": null,
   "metadata": {
    "collapsed": true
   },
   "outputs": [],
   "source": []
  },
  {
   "cell_type": "code",
   "execution_count": null,
   "metadata": {
    "collapsed": true
   },
   "outputs": [],
   "source": []
  },
  {
   "cell_type": "code",
   "execution_count": null,
   "metadata": {
    "collapsed": true
   },
   "outputs": [],
   "source": [
    "ClassID = \"425\""
   ]
  },
  {
   "cell_type": "code",
   "execution_count": null,
   "metadata": {
    "collapsed": true
   },
   "outputs": [],
   "source": [
    "SwitchSub(Key, ClassID)\n",
    "Head = {\n",
    "    \"User-Agent\":\"Mozilla/5.0 (Macintosh; Intel Mac OS X 10_13_0) AppleWebKit/537.36 (KHTML, like Gecko) Chrome/60.0.3112.113 Safari/537.36\"\n",
    "}\n",
    "Cook = {\n",
    "    \"ASP.NET_SessionId\":Key\n",
    "}\n",
    "HomLink = \"https://portalx.yzu.edu.tw/PortalSocialVB/THom/HomeworkList.aspx?Menu=Hom\"\n",
    "HomPage = requests.get(HomLink, cookies=Cook, headers=Head)\n",
    "if \"您尚未登入個人portal！\" in HomPage.text:\n",
    "    raise KeyError\n",
    "HomSoup = bs4.BeautifulSoup(HomPage.text, \"lxml\")\n",
    "Homs = []\n",
    "ItemNums = len(HomSoup.select(\".record2\"))//7\n",
    "for each in range(ItemNums):\n",
    "    Hom = {}\n",
    "    Item = HomSoup.select(\".record2\")[7*each:7*each+7]\n",
    "    Hom[\"Progress\"] = Item[0].string.strip(\" \")\n",
    "    Hom[\"Infos\"] = Item[4].string.strip(\" \").replace(\"\\r\", \"\").replace(\"\\n\", \"\")\n",
    "    Hom[\"Date\"] = Item[5].string.strip(\" \")\n",
    "    Homs.append(Hom)\n",
    "ItemNums = len(HomSoup.select(\".hi_line\"))//7\n",
    "for each in range(ItemNums):\n",
    "    Hom = {}\n",
    "    Item = HomSoup.select(\".hi_line\")[7*each:7*each+7]\n",
    "    Hom[\"Progress\"] = Item[0].string.strip(\" \")\n",
    "    Hom[\"Infos\"] = Item[4].string.strip(\" \").replace(\"\\r\", \"\").replace(\"\\n\", \"\")\n",
    "    Hom[\"Date\"] = Item[5].string.strip(\" \")\n",
    "    Homs.insert(each*2+1, Hom)\n",
    "Homs.reverse()"
   ]
  },
  {
   "cell_type": "code",
   "execution_count": null,
   "metadata": {
    "code_folding": [
     1
    ],
    "collapsed": true,
    "scrolled": false
   },
   "outputs": [],
   "source": [
    "rows = HomSoup.select(\"#Table1\")[0].find_all(\"tr\")\n",
    "for num in range(len(rows)):\n",
    "    row = rows[num]\n",
    "    print(row.attrs)\n",
    "    print(row.attrs.keys())\n",
    "    if \"class\" in row.attrs and (\"hi_line\" in row.attrs[\"class\"] or \"record2\" in row.attrs[\"class\"]):\n",
    "        print(row)\n",
    "        print(\"------\")\n",
    "        if len(row.find_all(\"td\")) == 1:\n",
    "            continue\n",
    "        Hom = {\n",
    "            \"id\":row.find_all(\"td\")[0].string,\n",
    "            \"Schedule\":row.find_all(\"td\")[1].string,\n",
    "            \"Subject\":row.find_all(\"td\")[2].string,\n",
    "            \"Details\":rows[num+1].find_all(\"td\")[0].string,\n",
    "            \"Attachement\":None if row.find_all(\"td\")[3].string == None else {\n",
    "                \"Name\":row.find_all(\"td\")[3].a[\"title\"][row.find_all(\"td\")[3].a[\"title\"].find(\"File Name\")+12:].strip(\"\\r\\n\"),\n",
    "                \"Link\":row.find_all(\"td\")[3].a[\"href\"].replace(\"..\", \"https://portalx.yzu.edu.tw/PortalSocialVB\")\n",
    "            },\n",
    "            \"Deadline\":row.find_all(\"td\")[4].string,\n",
    "            \"Uploaded\":[],\n",
    "            \"Action\":row.find_all(\"td\")[6].string,\n",
    "            \"PorG\":row.find_all(\"td\")[7].string,\n",
    "            \"FFtS\":True if \"Y\" == row.find_all(\"td\")[8].string else False,\n",
    "            \"Grade\":row.find_all(\"td\")[9].string,\n",
    "            \"Comment\":row.find_all(\"td\")[10].string\n",
    "        }\n",
    "        for file in row.find_all(\"td\")[5].find_all(\"a\"):\n",
    "            Hom[\"Uploaded\"].append({\n",
    "                \"Name\":file.string.strip().replace(\"(作廢)\",\"\"),\n",
    "                \"Link\":file[\"href\"].replace(\"..\", \"https://portalx.yzu.edu.tw/PortalSocialVB\"),\n",
    "                \"Time\":parseHomFileTitle(file[\"title\"], \"上傳時間：\"),\n",
    "                \"Abandoned\":True if \"(作廢)\" in file.string else False,\n",
    "                \"Comment\":parseHomFileTitle(file[\"title\"], \"說明：\")\n",
    "            })\n",
    "        print(Hom)\n",
    "        print(\"--------------------\")\n",
    "    if num == 4:\n",
    "        break"
   ]
  },
  {
   "cell_type": "code",
   "execution_count": null,
   "metadata": {
    "collapsed": true
   },
   "outputs": [],
   "source": []
  },
  {
   "cell_type": "code",
   "execution_count": null,
   "metadata": {
    "collapsed": true
   },
   "outputs": [],
   "source": []
  },
  {
   "cell_type": "code",
   "execution_count": null,
   "metadata": {
    "collapsed": true
   },
   "outputs": [],
   "source": []
  },
  {
   "cell_type": "code",
   "execution_count": null,
   "metadata": {
    "collapsed": true
   },
   "outputs": [],
   "source": []
  },
  {
   "cell_type": "code",
   "execution_count": null,
   "metadata": {
    "collapsed": true
   },
   "outputs": [],
   "source": []
  },
  {
   "cell_type": "code",
   "execution_count": null,
   "metadata": {
    "collapsed": true
   },
   "outputs": [],
   "source": []
  },
  {
   "cell_type": "code",
   "execution_count": null,
   "metadata": {
    "collapsed": true
   },
   "outputs": [],
   "source": []
  },
  {
   "cell_type": "code",
   "execution_count": null,
   "metadata": {
    "collapsed": true
   },
   "outputs": [],
   "source": []
  },
  {
   "cell_type": "code",
   "execution_count": null,
   "metadata": {
    "collapsed": true
   },
   "outputs": [],
   "source": []
  },
  {
   "cell_type": "code",
   "execution_count": null,
   "metadata": {
    "collapsed": true
   },
   "outputs": [],
   "source": []
  },
  {
   "cell_type": "code",
   "execution_count": null,
   "metadata": {
    "collapsed": true
   },
   "outputs": [],
   "source": []
  },
  {
   "cell_type": "code",
   "execution_count": null,
   "metadata": {
    "collapsed": true
   },
   "outputs": [],
   "source": []
  },
  {
   "cell_type": "code",
   "execution_count": null,
   "metadata": {
    "collapsed": true
   },
   "outputs": [],
   "source": []
  },
  {
   "cell_type": "code",
   "execution_count": null,
   "metadata": {
    "collapsed": true
   },
   "outputs": [],
   "source": []
  },
  {
   "cell_type": "code",
   "execution_count": null,
   "metadata": {
    "collapsed": true
   },
   "outputs": [],
   "source": []
  },
  {
   "cell_type": "code",
   "execution_count": null,
   "metadata": {
    "collapsed": true
   },
   "outputs": [],
   "source": []
  },
  {
   "cell_type": "code",
   "execution_count": null,
   "metadata": {
    "collapsed": true
   },
   "outputs": [],
   "source": []
  },
  {
   "cell_type": "code",
   "execution_count": null,
   "metadata": {
    "collapsed": true
   },
   "outputs": [],
   "source": []
  },
  {
   "cell_type": "markdown",
   "metadata": {},
   "source": [
    "# Demo"
   ]
  },
  {
   "cell_type": "markdown",
   "metadata": {},
   "source": [
    "### 登入"
   ]
  },
  {
   "cell_type": "code",
   "execution_count": null,
   "metadata": {
    "collapsed": true,
    "scrolled": true
   },
   "outputs": [],
   "source": [
    "userID = input(\"User ID:\")\n",
    "Password = input(\"Password:\")\n",
    "johnDoe = Login(userID, Password)\n",
    "johnDoe"
   ]
  },
  {
   "cell_type": "code",
   "execution_count": 10,
   "metadata": {
    "scrolled": true
   },
   "outputs": [
    {
     "name": "stdout",
     "output_type": "stream",
     "text": [
      "Login ID: s1061519\n",
      "Welcome! 謝繼緯\n"
     ]
    }
   ],
   "source": [
    "Tomy = LoginTomy()"
   ]
  },
  {
   "cell_type": "markdown",
   "metadata": {},
   "source": [
    "### 取得課程清單 & 輸出"
   ]
  },
  {
   "cell_type": "code",
   "execution_count": 11,
   "metadata": {},
   "outputs": [
    {
     "data": {
      "text/html": [
       "<div>\n",
       "<style>\n",
       "    .dataframe thead tr:only-child th {\n",
       "        text-align: right;\n",
       "    }\n",
       "\n",
       "    .dataframe thead th {\n",
       "        text-align: left;\n",
       "    }\n",
       "\n",
       "    .dataframe tbody tr th {\n",
       "        vertical-align: top;\n",
       "    }\n",
       "</style>\n",
       "<table border=\"1\" class=\"dataframe\">\n",
       "  <thead>\n",
       "    <tr style=\"text-align: right;\">\n",
       "      <th></th>\n",
       "      <th>學年</th>\n",
       "      <th>學期</th>\n",
       "      <th>課號</th>\n",
       "      <th>開課班別</th>\n",
       "      <th>學分數</th>\n",
       "      <th>上課時間</th>\n",
       "      <th>上課教室</th>\n",
       "      <th>教師姓名</th>\n",
       "    </tr>\n",
       "    <tr>\n",
       "      <th>課名</th>\n",
       "      <th></th>\n",
       "      <th></th>\n",
       "      <th></th>\n",
       "      <th></th>\n",
       "      <th></th>\n",
       "      <th></th>\n",
       "      <th></th>\n",
       "      <th></th>\n",
       "    </tr>\n",
       "  </thead>\n",
       "  <tbody>\n",
       "    <tr>\n",
       "      <th>國文（二）</th>\n",
       "      <td>106</td>\n",
       "      <td>2</td>\n",
       "      <td>CL165</td>\n",
       "      <td>G2</td>\n",
       "      <td>2</td>\n",
       "      <td>303 304</td>\n",
       "      <td>70112</td>\n",
       "      <td>黃智信</td>\n",
       "    </tr>\n",
       "    <tr>\n",
       "      <th>基礎程式設計-C++實習（二）</th>\n",
       "      <td>106</td>\n",
       "      <td>2</td>\n",
       "      <td>CP112</td>\n",
       "      <td>A1</td>\n",
       "      <td>2</td>\n",
       "      <td>401 402</td>\n",
       "      <td>1301B</td>\n",
       "      <td>張揚政</td>\n",
       "    </tr>\n",
       "    <tr>\n",
       "      <th>離散數學</th>\n",
       "      <td>106</td>\n",
       "      <td>2</td>\n",
       "      <td>CS107</td>\n",
       "      <td>B</td>\n",
       "      <td>3</td>\n",
       "      <td>110 409 410</td>\n",
       "      <td>1401B</td>\n",
       "      <td>張經略</td>\n",
       "    </tr>\n",
       "    <tr>\n",
       "      <th>程式設計（二）</th>\n",
       "      <td>106</td>\n",
       "      <td>2</td>\n",
       "      <td>CS114</td>\n",
       "      <td>A</td>\n",
       "      <td>3</td>\n",
       "      <td>209 210 309 310</td>\n",
       "      <td>1401B</td>\n",
       "      <td>林基成</td>\n",
       "    </tr>\n",
       "    <tr>\n",
       "      <th>微積分（二）</th>\n",
       "      <td>106</td>\n",
       "      <td>2</td>\n",
       "      <td>CS148</td>\n",
       "      <td>B</td>\n",
       "      <td>3</td>\n",
       "      <td>102 103 104</td>\n",
       "      <td>1501B</td>\n",
       "      <td>劉正傳</td>\n",
       "    </tr>\n",
       "    <tr>\n",
       "      <th>電子電路實驗</th>\n",
       "      <td>106</td>\n",
       "      <td>2</td>\n",
       "      <td>CS213</td>\n",
       "      <td>B</td>\n",
       "      <td>1</td>\n",
       "      <td>502 503 504</td>\n",
       "      <td>1008</td>\n",
       "      <td>陳勇志</td>\n",
       "    </tr>\n",
       "    <tr>\n",
       "      <th>電子電路學</th>\n",
       "      <td>106</td>\n",
       "      <td>2</td>\n",
       "      <td>CS252</td>\n",
       "      <td>B</td>\n",
       "      <td>4</td>\n",
       "      <td>203 204 506 507</td>\n",
       "      <td>1102</td>\n",
       "      <td>曾王道</td>\n",
       "    </tr>\n",
       "    <tr>\n",
       "      <th>科技與生活</th>\n",
       "      <td>106</td>\n",
       "      <td>2</td>\n",
       "      <td>GN245</td>\n",
       "      <td>A</td>\n",
       "      <td>2</td>\n",
       "      <td>206 207</td>\n",
       "      <td>70207</td>\n",
       "      <td>王立文</td>\n",
       "    </tr>\n",
       "    <tr>\n",
       "      <th>英語（二）：進階英語</th>\n",
       "      <td>106</td>\n",
       "      <td>2</td>\n",
       "      <td>LC201</td>\n",
       "      <td>B1</td>\n",
       "      <td>2</td>\n",
       "      <td>201 202</td>\n",
       "      <td>1211</td>\n",
       "      <td>周孟穎</td>\n",
       "    </tr>\n",
       "    <tr>\n",
       "      <th>全民國防教育軍事訓練課程-國際情勢</th>\n",
       "      <td>106</td>\n",
       "      <td>2</td>\n",
       "      <td>MT114</td>\n",
       "      <td>A</td>\n",
       "      <td>2</td>\n",
       "      <td>106 107</td>\n",
       "      <td>2008</td>\n",
       "      <td>吳昭瑩</td>\n",
       "    </tr>\n",
       "    <tr>\n",
       "      <th>體育</th>\n",
       "      <td>106</td>\n",
       "      <td>2</td>\n",
       "      <td>PL101</td>\n",
       "      <td>E2</td>\n",
       "      <td>0</td>\n",
       "      <td>508 509</td>\n",
       "      <td>體育場地</td>\n",
       "      <td>郭銘勻</td>\n",
       "    </tr>\n",
       "    <tr>\n",
       "      <th>游泳能力檢定</th>\n",
       "      <td>106</td>\n",
       "      <td>2</td>\n",
       "      <td>PL104</td>\n",
       "      <td>A</td>\n",
       "      <td>0</td>\n",
       "      <td>NaN</td>\n",
       "      <td>NaN</td>\n",
       "      <td>梁鳳紋</td>\n",
       "    </tr>\n",
       "  </tbody>\n",
       "</table>\n",
       "</div>"
      ],
      "text/plain": [
       "                    學年  學期     課號 開課班別  學分數             上課時間   上課教室 教師姓名\n",
       "課名                                                                      \n",
       "國文（二）              106   2  CL165   G2    2          303 304  70112  黃智信\n",
       "基礎程式設計-C++實習（二）    106   2  CP112   A1    2          401 402  1301B  張揚政\n",
       "離散數學               106   2  CS107    B    3      110 409 410  1401B  張經略\n",
       "程式設計（二）            106   2  CS114    A    3  209 210 309 310  1401B  林基成\n",
       "微積分（二）             106   2  CS148    B    3      102 103 104  1501B  劉正傳\n",
       "電子電路實驗             106   2  CS213    B    1      502 503 504   1008  陳勇志\n",
       "電子電路學              106   2  CS252    B    4  203 204 506 507   1102  曾王道\n",
       "科技與生活              106   2  GN245    A    2          206 207  70207  王立文\n",
       "英語（二）：進階英語         106   2  LC201   B1    2          201 202   1211  周孟穎\n",
       "全民國防教育軍事訓練課程-國際情勢  106   2  MT114    A    2          106 107   2008  吳昭瑩\n",
       "體育                 106   2  PL101   E2    0          508 509   體育場地  郭銘勻\n",
       "游泳能力檢定             106   2  PL104    A    0              NaN    NaN  梁鳳紋"
      ]
     },
     "execution_count": 11,
     "metadata": {},
     "output_type": "execute_result"
    }
   ],
   "source": [
    "classList = getClasses(Tomy)\n",
    "classList"
   ]
  },
  {
   "cell_type": "code",
   "execution_count": 12,
   "metadata": {
    "collapsed": true
   },
   "outputs": [],
   "source": [
    "classList.to_csv(\"Classes.csv\")\n",
    "classList.T.to_json(\"Classes.json\")"
   ]
  },
  {
   "cell_type": "code",
   "execution_count": 28,
   "metadata": {},
   "outputs": [
    {
     "name": "stdout",
     "output_type": "stream",
     "text": [
      "\n",
      "Directory Created: /Users/tomy0000000/Dropbox/YZU 1062/國文 (二)\n",
      "Directory Created: /Users/tomy0000000/Dropbox/YZU 1062/基礎程式設計-C++實習 (二)\n",
      "Directory Created: /Users/tomy0000000/Dropbox/YZU 1062/離散數學\n",
      "Directory Created: /Users/tomy0000000/Dropbox/YZU 1062/程式設計 (二)\n",
      "Directory Created: /Users/tomy0000000/Dropbox/YZU 1062/微積分 (二)\n",
      "Directory Created: /Users/tomy0000000/Dropbox/YZU 1062/電子電路實驗\n",
      "Directory Created: /Users/tomy0000000/Dropbox/YZU 1062/電子電路學\n",
      "Directory Created: /Users/tomy0000000/Dropbox/YZU 1062/科技與生活\n",
      "Directory Created: /Users/tomy0000000/Dropbox/YZU 1062/英語 (二)：進階英語\n",
      "Directory Created: /Users/tomy0000000/Dropbox/YZU 1062/全民國防教育軍事訓練課程-國際情勢\n",
      "Directory Created: /Users/tomy0000000/Dropbox/YZU 1062/體育\n",
      "Directory Created: /Users/tomy0000000/Dropbox/YZU 1062/游泳能力檢定\n"
     ]
    }
   ],
   "source": [
    "base = (lambda x:\"/Users/tomy0000000/Dropbox/YZU 1062\" if x==\"\" else x)(input())\n",
    "for cls in classList.index:\n",
    "    cls = cls.replace(\"）\",\")\").replace(\"（\",\" (\").replace(\"-\",\" - \")\n",
    "    os.mkdir(base+\"/\"+cls)\n",
    "    print(\"Directory Created: \"+base+\"/\"+cls)"
   ]
  },
  {
   "cell_type": "code",
   "execution_count": null,
   "metadata": {
    "collapsed": true
   },
   "outputs": [],
   "source": []
  },
  {
   "cell_type": "code",
   "execution_count": null,
   "metadata": {
    "collapsed": true
   },
   "outputs": [],
   "source": []
  },
  {
   "cell_type": "code",
   "execution_count": null,
   "metadata": {
    "collapsed": true
   },
   "outputs": [],
   "source": []
  },
  {
   "cell_type": "markdown",
   "metadata": {},
   "source": [
    "### 取得教材"
   ]
  },
  {
   "cell_type": "code",
   "execution_count": null,
   "metadata": {
    "collapsed": true,
    "scrolled": true
   },
   "outputs": [],
   "source": [
    "Materials = GetMaterials(Key, \"425\")\n",
    "Materials"
   ]
  },
  {
   "cell_type": "code",
   "execution_count": null,
   "metadata": {
    "collapsed": true,
    "scrolled": true
   },
   "outputs": [],
   "source": [
    "print(\"\\t\".join([\"日期\",\"進度\",\"內容\"]))\n",
    "for Mat in Materials:\n",
    "    print(Mat[\"Date\"], end=\"\\t\")\n",
    "    print(Mat[\"Progress\"], end=\"\\t\")\n",
    "    print(Mat[\"Infos\"])"
   ]
  }
 ],
 "metadata": {
  "kernelspec": {
   "display_name": "Python 3",
   "language": "python",
   "name": "python3"
  },
  "language_info": {
   "codemirror_mode": {
    "name": "ipython",
    "version": 3
   },
   "file_extension": ".py",
   "mimetype": "text/x-python",
   "name": "python",
   "nbconvert_exporter": "python",
   "pygments_lexer": "ipython3",
   "version": "3.6.2"
  }
 },
 "nbformat": 4,
 "nbformat_minor": 2
}
